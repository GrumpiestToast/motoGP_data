{
 "cells": [
  {
   "cell_type": "code",
   "execution_count": 1,
   "metadata": {},
   "outputs": [],
   "source": [
    "from bs4 import BeautifulSoup as bs\n",
    "import pandas as pd\n",
    "import requests\n",
    "import csv\n",
    "import re"
   ]
  },
  {
   "cell_type": "code",
   "execution_count": 2,
   "metadata": {},
   "outputs": [
    {
     "name": "stdout",
     "output_type": "stream",
     "text": [
      "['http://www.motogp.com/en/Results+Statistics/2002', 'http://www.motogp.com/en/Results+Statistics/2003', 'http://www.motogp.com/en/Results+Statistics/2004', 'http://www.motogp.com/en/Results+Statistics/2005', 'http://www.motogp.com/en/Results+Statistics/2006', 'http://www.motogp.com/en/Results+Statistics/2007', 'http://www.motogp.com/en/Results+Statistics/2008', 'http://www.motogp.com/en/Results+Statistics/2009', 'http://www.motogp.com/en/Results+Statistics/2010', 'http://www.motogp.com/en/Results+Statistics/2011', 'http://www.motogp.com/en/Results+Statistics/2012', 'http://www.motogp.com/en/Results+Statistics/2013', 'http://www.motogp.com/en/Results+Statistics/2014', 'http://www.motogp.com/en/Results+Statistics/2015', 'http://www.motogp.com/en/Results+Statistics/2016', 'http://www.motogp.com/en/Results+Statistics/2017', 'http://www.motogp.com/en/Results+Statistics/2018']\n"
     ]
    }
   ],
   "source": [
    "urls = []\n",
    "for i in range(2002, 2019):\n",
    "    urls.append('http://www.motogp.com/en/Results+Statistics/' + str(i))\n",
    "print(urls)    "
   ]
  },
  {
   "cell_type": "code",
   "execution_count": 14,
   "metadata": {},
   "outputs": [
    {
     "name": "stdout",
     "output_type": "stream",
     "text": [
      "[]\n"
     ]
    }
   ],
   "source": [
    "#scrape elements\n",
    "data = []\n",
    "for url in urls:\n",
    "    response = requests.get(url)\n",
    "    soup = bs(response.content, \"html.parser\")\n",
    "    \n",
    "    for t in soup.find_all(['tr'], class_=\"even\"):\n",
    "        s = str(t.string)\n",
    "        if s != \"None\": \n",
    "            data.append(s.strip())\n",
    "print(data)\n",
    "\n",
    "    #print titles only\n",
    "    #h1 = soup.find(\"h1\", class_= \"class-headline\")\n",
    "    #print(h1.get_text())"
   ]
  },
  {
   "cell_type": "code",
   "execution_count": null,
   "metadata": {},
   "outputs": [],
   "source": [
    "print(soup.prettify())"
   ]
  },
  {
   "cell_type": "code",
   "execution_count": null,
   "metadata": {},
   "outputs": [],
   "source": [
    "n = 'Results'\n",
    "n2 = '09-11 Nov'\n",
    "n3 = '03-05 Feb'\n",
    "n4 = '24-26 Feb'\n",
    "n5 = '01-03 Mar'\n",
    "n6 = '06-08 Mar'\n",
    "n7 = '18 Mar'\n",
    "n8 = '27-29 Mar'\n",
    "n9 = 'MotoGP: Valencia'\n",
    "n10 = 'MotoGP: Sepang'\n",
    "n11 = 'Moto2: Valencia'\n",
    "n12 = '125: Valencia'\n",
    "n13 = 'Moto2: Jerez'\n",
    "n14 = '125: Jerez'\n",
    "n15 = 'MotoGP: Losail'\n",
    "n16 = '08 Nov'\n",
    "n17 = '09-10 Nov'\n",
    "n18 = '01-03 Feb'\n",
    "n19 = '22-24 Feb'\n",
    "n20 = '04-06 Mar'\n",
    "n21 = '13-14 Mar'\n",
    "n22 = 'MotoGP: Qatar'\n",
    "n23 = '08-09 Nov'\n",
    "n24 = '31-02 Feb'\n",
    "n25 = '28-01 Mar'\n",
    "n26 = '19-21 Mar'\n",
    "n27 = '23-25 Mar'\n",
    "n28 = '27 Aug'\n",
    "n29 = 'Moto3: Jerez'\n",
    "n30 = 'MotoGP: Jerez'\n",
    "n31 = 'MotoGP: Brno'\n",
    "n32 = '13-14 Nov'\n",
    "n33 = '03-04 Feb'\n",
    "n34 = '05-07 Feb'\n",
    "n35 = '12-14 Feb'\n",
    "n36 = '19-21 Feb'\n",
    "n37 = '26-28 Feb'\n",
    "n38 = '23-25 Mar'\n",
    "n39 = '18-20 Mar'\n",
    "n41 = 'MotoGP CRT: Sepang'\n",
    "n42 = 'Moto3: Valencia'\n",
    "n43 = '11-12 Nov'\n",
    "n44 = '04-06 Feb'\n",
    "n45 = '11-13 Feb'\n",
    "n46 = '18-20 Feb'\n",
    "n47 = '26-28 Feb'\n",
    "n48 = '03-05 Mar'\n",
    "n49 = '07-09 Mar'\n",
    "n50 = '11-13 Mar'\n",
    "n51 = 'MotoGP Moto2: Phillip Island'\n",
    "n52 = '10-12 Nov'\n",
    "n53 = '04-06 Feb'\n",
    "n54 = '10-12 Feb'\n",
    "n55 = '17-19 Feb'\n",
    "n56 = '23-25 Feb'\n",
    "n57 = '14-16 Mar'\n",
    "n58 = '17-19 Mar'\n",
    "n59 = '04 May'\n",
    "n60 = '17-19 Mar'\n",
    "n61 = '14 Jun'\n",
    "n62 = 'MotoGP: Catalunya'\n",
    "n63 = ''\n",
    "# loop to traverse each element in list\n",
    "# and, remove elements \n",
    "# which are equals to n\n",
    "i=0 #loop counter\n",
    "length = len(data)  #list length \n",
    "while(i<length):\n",
    "\tif(data[i]==n):\n",
    "\t\tdel (data[i])\n",
    "\t\t# as an element is removed\t\n",
    "\t\t# so decrease the length by 1\t\n",
    "\t\tlength = length -1  \n",
    "\t\t# run loop again to check element\t\t\t\t\t\t\t\n",
    "\t\t# at same index, when item removed \n",
    "\t\t# next item will shift to the left \n",
    "\t\tcontinue\n",
    "\ti = i+1\n",
    "\n",
    "# print list after removing given element\n",
    "\n",
    "print(data)"
   ]
  },
  {
   "cell_type": "code",
   "execution_count": null,
   "metadata": {},
   "outputs": [],
   "source": [
    "# #Much Cleaner scrape. can seperate into several lists and convert to dataframe. \n",
    "# data = []\n",
    "# for t in soup.find_all('td'):\n",
    "#     s = str(t.string)\n",
    "#     if s != \"None\": \n",
    "#         data.append(s.strip())\n",
    "# print(data)\n"
   ]
  },
  {
   "cell_type": "code",
   "execution_count": null,
   "metadata": {},
   "outputs": [],
   "source": [
    "data "
   ]
  },
  {
   "cell_type": "code",
   "execution_count": null,
   "metadata": {},
   "outputs": [],
   "source": [
    "new1, new2, new3, new4, new5 = [data[i::5] for i in range(5)]\n"
   ]
  },
  {
   "cell_type": "code",
   "execution_count": null,
   "metadata": {},
   "outputs": [],
   "source": [
    "new1"
   ]
  },
  {
   "cell_type": "code",
   "execution_count": null,
   "metadata": {},
   "outputs": [],
   "source": [
    "# new5 = new5[0:25]\n",
    "# new5.append(\"0\")\n",
    "# new5 = [ int(x) for x in new5 ]\n",
    "new5"
   ]
  },
  {
   "cell_type": "code",
   "execution_count": null,
   "metadata": {},
   "outputs": [],
   "source": [
    "df = pd.DataFrame(list(zip(new1, new2, new3,new4, new5)),\n",
    "              columns=['Pos.', 'Pilot', 'Manufacturer', 'Country', 'Total Points'])"
   ]
  },
  {
   "cell_type": "code",
   "execution_count": null,
   "metadata": {},
   "outputs": [],
   "source": [
    "df.head(75)"
   ]
  },
  {
   "cell_type": "code",
   "execution_count": 15,
   "metadata": {},
   "outputs": [],
   "source": [
    "contentTable  = soup.find('table', { \"class\" : \"width100\"}) # Use dictionary to pass key : value pair\n",
    "rows  = contentTable.find_all('tr', {\"class\":\"even\"})\n",
    "for row in rows:\n",
    "    print(row.get_text())\n",
    "    #print(row.findNext('td').text)"
   ]
  },
  {
   "cell_type": "code",
   "execution_count": 21,
   "metadata": {},
   "outputs": [
    {
     "name": "stdout",
     "output_type": "stream",
     "text": [
      "[]\n",
      "['Pos.', 'Rider', 'Bike', 'Nation', 'Points']\n",
      "[]\n",
      "[]\n"
     ]
    }
   ],
   "source": [
    "table = soup.find(\"table\", {\"class\":\"width100\"})\n",
    "dataset = []\n",
    "datasets = []\n",
    "data=[]\n",
    "for url in urls:\n",
    "    response = requests.get(url)\n",
    "    soup = bs(response.content, \"html.parser\")\n",
    "# The first tr contains the field names.\n",
    "    headings = [th.get_text() for th in table.find(\"tr\").find_all(\"th\")]\n",
    "    #data = [td.get_text() for td in table.find(\"td\").find_all(\"tr\")]\n",
    "\n",
    "    for row in table.find_all(\"tr\", class_=\"even\")[1:]:\n",
    "        dataset = zip(headings, (td.get_text() for td in row.find_all(\"td\")))\n",
    "        datasets.append(dataset)\n",
    "\n",
    "print (datasets)\n",
    "print(headings)\n",
    "print(dataset)\n",
    "print(data)"
   ]
  },
  {
   "cell_type": "code",
   "execution_count": null,
   "metadata": {},
   "outputs": [],
   "source": [
    "table"
   ]
  },
  {
   "cell_type": "code",
   "execution_count": null,
   "metadata": {},
   "outputs": [],
   "source": []
  }
 ],
 "metadata": {
  "kernelspec": {
   "display_name": "Python 3",
   "language": "python",
   "name": "python3"
  },
  "language_info": {
   "codemirror_mode": {
    "name": "ipython",
    "version": 3
   },
   "file_extension": ".py",
   "mimetype": "text/x-python",
   "name": "python",
   "nbconvert_exporter": "python",
   "pygments_lexer": "ipython3",
   "version": "3.7.3"
  }
 },
 "nbformat": 4,
 "nbformat_minor": 2
}
